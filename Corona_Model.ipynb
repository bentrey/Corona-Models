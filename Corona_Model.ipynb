{
 "cells": [
  {
   "cell_type": "markdown",
   "metadata": {},
   "source": [
    "# Corona Prediction Model"
   ]
  },
  {
   "cell_type": "code",
   "execution_count": 148,
   "metadata": {},
   "outputs": [],
   "source": [
    "import numpy as np\n",
    "import matplotlib.pyplot as plt"
   ]
  },
  {
   "cell_type": "markdown",
   "metadata": {},
   "source": [
    "$$ \\frac{dn}{dt} = k \\bigg(A-n\\bigg)\\bigg(n - n(t-a)\\bigg) $$"
   ]
  },
  {
   "cell_type": "code",
   "execution_count": 149,
   "metadata": {},
   "outputs": [],
   "source": [
    "n_m = [15, 15, 15, 15, 15, 15, 35, 35, 35, 53, 57, 60, 60, 63, 68, 75, 100, 124, 158, 221, 319, 435,\\\n",
    "       541, 704, 994, 1301, 1697, 2247, 2943, 3680, 4663, 6456]\n",
    "n_m = n_m[18:]"
   ]
  },
  {
   "cell_type": "code",
   "execution_count": 150,
   "metadata": {},
   "outputs": [],
   "source": [
    "A = 327.2*10**6\n",
    "a = 12\n",
    "k = 10**(-9)\n",
    "dt = 0.01\n",
    "\n",
    "def chi_sqr(a,k):\n",
    "    t = 0\n",
    "    n = [n_m[0]]\n",
    "    dndt = [0.01]\n",
    "    time_steps = int(len(n_m)/dt)+1\n",
    "    for trial in range(time_steps):\n",
    "        t += dt\n",
    "        if len(n) < a/dt:\n",
    "            n_0 = 0\n",
    "        else:\n",
    "            n_0 = n[-int(a/dt)]\n",
    "        n += [n[-1]+dndt[-1]*dt]\n",
    "        dndt += [k*(A-n[-1])*(n[-1]-n_0)]\n",
    "    error = 0\n",
    "    for j in range(len(n_m)):\n",
    "        error += (n_m[j]-n[int(j/dt)])**2\n",
    "    return error\n",
    "\n",
    "def get_func(a,k):\n",
    "    t = 0\n",
    "    n = [n_m[0]]\n",
    "    dndt = [0.01]\n",
    "    time_steps = int((len(n_m)+1)/dt)+1\n",
    "    for trial in range(time_steps):\n",
    "        t += dt\n",
    "        if len(n) < a/dt:\n",
    "            n_0 = 0\n",
    "        else:\n",
    "            n_0 = n[-int(a/dt)]\n",
    "        n += [n[-1]+dndt[-1]*dt]\n",
    "        dndt += [k*(A-n[-1])*(n[-1]-n_0)]\n",
    "    func = []\n",
    "    for j in range(len(n_m)+1):\n",
    "        func += [n[int(j/dt)]]\n",
    "    return func\n",
    "\n",
    "def grad_descent(a,k,step):\n",
    "    d = chi_sqr(a,k)\n",
    "    a_list = []\n",
    "    k_list = []\n",
    "    for n in range(10**5):\n",
    "        a_1 = a*(2*np.random.random())\n",
    "        k_1 = k*(2*np.random.random())\n",
    "        d_1 = chi_sqr(a_1,k_1)\n",
    "        a_2 = a_1 - d*(a_1-a)/(d_1-d)*step\n",
    "        k_2 = k_1 - d*(k_1-k)/(d_1-d)*step\n",
    "        if d_1<d:\n",
    "            k = k_1\n",
    "            k_1 = k_2\n",
    "            a = a_1\n",
    "            a_1 = a_2\n",
    "            d = d_1\n",
    "        a_list += [a]\n",
    "        k_list += [k]\n",
    "    plt.plot(a_list)\n",
    "    plt.show()\n",
    "    plt.plot(k_list)\n",
    "    plt.show()\n",
    "    return [a,k,d]"
   ]
  },
  {
   "cell_type": "code",
   "execution_count": 151,
   "metadata": {},
   "outputs": [
    {
     "data": {
      "image/png": "[encoded data removed]",
      "text/plain": [
       "<Figure size 432x288 with 1 Axes>"
      ]
     },
     "metadata": {
      "needs_background": "light"
     },
     "output_type": "display_data"
    },
    {
     "data": {
      "image/png": "[encoded data removed]",
      "text/plain": [
       "<Figure size 432x288 with 1 Axes>"
      ]
     },
     "metadata": {
      "needs_background": "light"
     },
     "output_type": "display_data"
    }
   ],
   "source": [
    "params = grad_descent(5,7.4*10**(-10),0.1)"
   ]
  },
  {
   "cell_type": "code",
   "execution_count": 152,
   "metadata": {},
   "outputs": [],
   "source": [
    "n_c = get_func(params[0], params[1])"
   ]
  },
  {
   "cell_type": "code",
   "execution_count": 153,
   "metadata": {},
   "outputs": [
    {
     "data": {
      "text/plain": [
       "[<matplotlib.lines.Line2D at 0x2352406bc88>,\n",
       " <matplotlib.lines.Line2D at 0x23524105b48>]"
      ]
     },
     "execution_count": 153,
     "metadata": {},
     "output_type": "execute_result"
    },
    {
     "data": {
      "image/png": "[encoded data removed]",
      "text/plain": [
       "<Figure size 432x288 with 1 Axes>"
      ]
     },
     "metadata": {
      "needs_background": "light"
     },
     "output_type": "display_data"
    }
   ],
   "source": [
    "t_0 = list(range(len(n_c)))\n",
    "t_1 = list(range(len(n_m)))\n",
    "plt.plot(t_0,n_c,'ro',t_1,n_m,'bo')"
   ]
  },
  {
   "cell_type": "code",
   "execution_count": 154,
   "metadata": {},
   "outputs": [
    {
     "data": {
      "text/plain": [
       "8181.654825100881"
      ]
     },
     "execution_count": 154,
     "metadata": {},
     "output_type": "execute_result"
    }
   ],
   "source": [
    "n_c[-1]"
   ]
  },
  {
   "cell_type": "code",
   "execution_count": 155,
   "metadata": {},
   "outputs": [
    {
     "data": {
      "text/plain": [
       "7.454244719848432"
      ]
     },
     "execution_count": 155,
     "metadata": {},
     "output_type": "execute_result"
    }
   ],
   "source": [
    "params[0]"
   ]
  },
  {
   "cell_type": "code",
   "execution_count": null,
   "metadata": {},
   "outputs": [],
   "source": []
  }
 ],
 "metadata": {
  "kernelspec": {
   "display_name": "Python 3",
   "language": "python",
   "name": "python3"
  },
  "language_info": {
   "codemirror_mode": {
    "name": "ipython",
    "version": 3
   },
   "file_extension": ".py",
   "mimetype": "text/x-python",
   "name": "python",
   "nbconvert_exporter": "python",
   "pygments_lexer": "ipython3",
   "version": "3.7.4"
  }
 },
 "nbformat": 4,
 "nbformat_minor": 2
}
