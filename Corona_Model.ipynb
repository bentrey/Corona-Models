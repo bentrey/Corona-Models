{
 "cells": [
  {
   "cell_type": "markdown",
   "metadata": {},
   "source": [
    "# Corona Prediction Model"
   ]
  },
  {
   "cell_type": "code",
   "execution_count": 397,
   "metadata": {},
   "outputs": [],
   "source": [
    "import numpy as np\n",
    "import matplotlib.pyplot as plt\n",
    "import pandas as pd\n",
    "import warnings\n",
    "from sklearn.model_selection import train_test_split\n",
    "from sklearn.linear_model import LogisticRegression\n",
    "from sklearn.metrics import accuracy_score\n",
    "\n",
    "directory = \"C:/Users/我的电脑/Desktop/Project/Corona/\"\n",
    "\n",
    "warnings.filterwarnings('ignore')"
   ]
  },
  {
   "cell_type": "markdown",
   "metadata": {},
   "source": [
    "$$ \\frac{dn}{dt} = k \\bigg(A-n\\bigg)\\bigg(n(t-b) - n(t-a)\\bigg) $$"
   ]
  },
  {
   "cell_type": "code",
   "execution_count": 398,
   "metadata": {},
   "outputs": [],
   "source": [
    "n_m = [15, 15, 15, 15, 15, 15, 35, 35, 35, 53, 57, 60, 60, 63, 68, 75, 100, 124, 158, 221, 319, 435,\\\n",
    "       541, 704, 994, 1301, 1697, 2247, 2943, 3680, 4663, 6411, 9259, 13789]\n",
    "n_m = n_m[-18:]"
   ]
  },
  {
   "cell_type": "code",
   "execution_count": 399,
   "metadata": {},
   "outputs": [],
   "source": [
    "A = 327.2*10**6\n",
    "a = 12\n",
    "k = 10**(-9)\n",
    "dt = 0.01\n",
    "\n",
    "def chi_sqr(a,b,k):\n",
    "    t = 0\n",
    "    n = [n_m[0]]\n",
    "    dndt = [0.01]\n",
    "    time_steps = int(len(n_m)/dt)+1\n",
    "    for trial in range(time_steps):\n",
    "        t += dt\n",
    "        if len(n) < a/dt:\n",
    "            n_0 = 0\n",
    "        else:\n",
    "            n_0 = n[-int(a/dt)]\n",
    "        if len(n) < b/dt:\n",
    "            n_1 = 0\n",
    "        else:\n",
    "            n_1 = n[-int(b/dt)]\n",
    "        n += [n[-1]+dndt[-1]*dt]\n",
    "        dndt += [k*(A-n[-1])*(n_1-n_0)]\n",
    "    error = 0\n",
    "    for j in range(len(n_m)):\n",
    "        error += (n_m[j]-n[int(j/dt)])**2\n",
    "    return error\n",
    "\n",
    "def get_func(a,b,k):\n",
    "    t = 0\n",
    "    n = [n_m[0]]\n",
    "    dndt = [0.01]\n",
    "    time_steps = int((len(n_m)+1)/dt)+1\n",
    "    for trial in range(time_steps):\n",
    "        t += dt\n",
    "        if len(n) < a/dt:\n",
    "            n_0 = 0\n",
    "        else:\n",
    "            n_0 = n[-int(a/dt)]\n",
    "        if len(n) < b/dt:\n",
    "            n_1 = 0\n",
    "        else:\n",
    "            n_1 = n[-int(b/dt)]\n",
    "        n += [n[-1]+dndt[-1]*dt]\n",
    "        dndt += [k*(A-n[-1])*(n_1-n_0)]\n",
    "    func = []\n",
    "    for j in range(len(n_m)+1):\n",
    "        func += [n[int(j/dt)]]\n",
    "    return func\n",
    "\n",
    "def grad_descent(a,b,k,step):\n",
    "    d = chi_sqr(a,b,k)\n",
    "    a_list = []\n",
    "    b_list = []\n",
    "    k_list = []\n",
    "    for n in range(10**6):\n",
    "        a_1 = a*(2*np.random.random())\n",
    "        b_1 = a*(2*np.random.random())\n",
    "        k_1 = k*(2*np.random.random())\n",
    "        d_1 = chi_sqr(a_1,b_1,k_1)\n",
    "        a_2 = a_1 - d*(a_1-a)/(d_1-d)*step\n",
    "        b_2 = b_1 - d*(b_1-b)/(d_1-d)*step\n",
    "        k_2 = k_1 - d*(k_1-k)/(d_1-d)*step\n",
    "        if d_1<d:\n",
    "            k = k_1\n",
    "            k_1 = k_2\n",
    "            a = a_1\n",
    "            a_1 = a_2\n",
    "            b = b_1\n",
    "            b_1 = b_2\n",
    "            d = d_1\n",
    "        a_list += [a]\n",
    "        b_list += [b]\n",
    "        k_list += [k]\n",
    "    plt.plot(a_list)\n",
    "    plt.show()\n",
    "    plt.plot(b_list)\n",
    "    plt.show()\n",
    "    plt.plot(k_list)\n",
    "    plt.show()\n",
    "    return [a,b,k,d]"
   ]
  },
  {
   "cell_type": "code",
   "execution_count": 400,
   "metadata": {},
   "outputs": [
    {
     "data": {
      "image/png": "[encoded data removed]",
      "text/plain": [
       "<Figure size 432x288 with 1 Axes>"
      ]
     },
     "metadata": {
      "needs_background": "light"
     },
     "output_type": "display_data"
    },
    {
     "data": {
      "image/png": "[encoded data removed]",
      "text/plain": [
       "<Figure size 432x288 with 1 Axes>"
      ]
     },
     "metadata": {
      "needs_background": "light"
     },
     "output_type": "display_data"
    },
    {
     "data": {
      "image/png": "[encoded data removed]",
      "text/plain": [
       "<Figure size 432x288 with 1 Axes>"
      ]
     },
     "metadata": {
      "needs_background": "light"
     },
     "output_type": "display_data"
    }
   ],
   "source": [
    "params = grad_descent(5,2,2.0*10**(-9),0.1)"
   ]
  },
  {
   "cell_type": "code",
   "execution_count": 401,
   "metadata": {},
   "outputs": [],
   "source": [
    "n_c = get_func(params[0], params[1], params[2])"
   ]
  },
  {
   "cell_type": "code",
   "execution_count": 402,
   "metadata": {},
   "outputs": [
    {
     "data": {
      "text/plain": [
       "[<matplotlib.lines.Line2D at 0x2351f680d08>,\n",
       " <matplotlib.lines.Line2D at 0x23523b249c8>]"
      ]
     },
     "execution_count": 402,
     "metadata": {},
     "output_type": "execute_result"
    },
    {
     "data": {
      "image/png": "[encoded data removed]",
      "text/plain": [
       "<Figure size 432x288 with 1 Axes>"
      ]
     },
     "metadata": {
      "needs_background": "light"
     },
     "output_type": "display_data"
    }
   ],
   "source": [
    "t_0 = list(range(len(n_c)))\n",
    "t_1 = list(range(len(n_m)))\n",
    "plt.plot(t_0,n_c,'ro',t_1,n_m,'bo')"
   ]
  },
  {
   "cell_type": "code",
   "execution_count": 403,
   "metadata": {},
   "outputs": [
    {
     "data": {
      "text/plain": [
       "18367.92076758579"
      ]
     },
     "execution_count": 403,
     "metadata": {},
     "output_type": "execute_result"
    }
   ],
   "source": [
    "n_c[-1]"
   ]
  },
  {
   "cell_type": "code",
   "execution_count": 404,
   "metadata": {},
   "outputs": [
    {
     "data": {
      "text/plain": [
       "74.12741016036726"
      ]
     },
     "execution_count": 404,
     "metadata": {},
     "output_type": "execute_result"
    }
   ],
   "source": [
    "params[0]"
   ]
  },
  {
   "cell_type": "code",
   "execution_count": 405,
   "metadata": {},
   "outputs": [
    {
     "data": {
      "text/plain": [
       "2.5551279195748346"
      ]
     },
     "execution_count": 405,
     "metadata": {},
     "output_type": "execute_result"
    }
   ],
   "source": [
    "params[1]"
   ]
  },
  {
   "cell_type": "markdown",
   "metadata": {},
   "source": [
    "# Sklearn Logistic Model"
   ]
  },
  {
   "cell_type": "code",
   "execution_count": 406,
   "metadata": {},
   "outputs": [],
   "source": [
    "data_frame = pd.read_csv(directory+'time_series_covid_19_confirmed.csv')"
   ]
  },
  {
   "cell_type": "code",
   "execution_count": 407,
   "metadata": {},
   "outputs": [],
   "source": [
    "data_frame = data_frame[data_frame['Province/State'].isin(['Alabama', \\\n",
    "    'Alaska', 'Arizona', 'Arkansas', 'California', 'Colorado', 'Connecticut', \\\n",
    "    'Delaware', 'Florida', 'Georgia', 'Hawaii', 'Idaho', 'Illinois', \\\n",
    "    'Indiana', 'Iowa', 'Kansas', 'Kentucky', 'Louisiana', 'Maine', \\\n",
    "    'Maryland', 'Massachusetts', 'Michigan', 'Minnesota', 'Michigan', \\\n",
    "    'Mississippi', 'Missouri', 'Montana', 'Nebraska', 'Nevada', \\\n",
    "    'New Hampshire', 'New Mexico', 'New York', 'New Jersey', \\\n",
    "    'North Carolina', 'North Dakota', 'Ohio', 'Oregon', 'Oklahoma', \\\n",
    "    'Pennsylvania', 'Rhode Island', 'South Carolina', 'South Dakota', \\\n",
    "    'Tennessee', 'Utah', 'Texas', 'Vermont', 'Virginia', 'Washington', \\\n",
    "    'West Virginia', 'Wisconsin', 'Wyoming'])]"
   ]
  },
  {
   "cell_type": "code",
   "execution_count": 408,
   "metadata": {},
   "outputs": [],
   "source": [
    "data_frame = data_frame.drop(['Lat', 'Long', 'Country/Region', '1/22/20', '1/23/20', \\\n",
    "                '1/24/20', '1/25/20', '1/26/20', '1/27/20', '1/28/20', \\\n",
    "                '1/29/20', '1/30/20', '1/31/20', '2/1/20', '2/2/20', \\\n",
    "                '2/3/20', '2/4/20', '2/5/20', '2/6/20', '2/7/20', \\\n",
    "                '2/8/20', '2/9/20', '2/10/20', '2/11/20', '2/12/20', \\\n",
    "                '2/13/20', '2/14/20', '2/15/20', '2/16/20', '2/17/20', \\\n",
    "                '2/18/20', '2/19/20', '2/20/20', '2/21/20', '2/22/20', \\\n",
    "                '2/23/20', '2/24/20', '2/25/20', '2/26/20', '2/27/20', \\\n",
    "                '2/28/20', '2/29/20', '3/1/20', '3/2/20', '3/3/20', \\\n",
    "                '3/4/20', '3/5/20', '3/6/20', '3/7/20', '3/8/20', '3/9/20' \\\n",
    "                ],axis=1)"
   ]
  },
  {
   "cell_type": "code",
   "execution_count": 409,
   "metadata": {},
   "outputs": [],
   "source": [
    "new_data_frame=pd.DataFrame(columns=['Date','State','Previous','Current','Tomorrow'])"
   ]
  },
  {
   "cell_type": "code",
   "execution_count": 410,
   "metadata": {},
   "outputs": [],
   "source": [
    "for n in range(data_frame.shape[0]):\n",
    "    row = data_frame.iloc[n]\n",
    "    size = new_data_frame.shape[0]\n",
    "    new_data_frame.loc[size+1] = ['3/11/20', row['Province/State'], row['3/10/20'], \\\n",
    "                          row['3/11/20'], row['3/12/20']]\n",
    "    new_data_frame.loc[size+2] = ['3/12/20', row['Province/State'], row['3/11/20'], \\\n",
    "                          row['3/12/20'], row['3/13/20']]\n",
    "    new_data_frame.loc[size+3] = ['3/13/20', row['Province/State'], row['3/12/20'], \\\n",
    "                          row['3/13/20'], row['3/14/20']]"
   ]
  },
  {
   "cell_type": "code",
   "execution_count": 411,
   "metadata": {},
   "outputs": [],
   "source": [
    "new_data_frame.to_csv(directory+'data.csv',index=False)"
   ]
  },
  {
   "cell_type": "code",
   "execution_count": 412,
   "metadata": {},
   "outputs": [
    {
     "name": "stdout",
     "output_type": "stream",
     "text": [
      "0.18421052631578946\n"
     ]
    }
   ],
   "source": [
    "test_data_frame = pd.read_csv(directory+'data.csv')\n",
    "test_data_frame = test_data_frame.replace(['3/11/20', '3/12/20', \\\n",
    "                '3/13/20'],[0, 1, 2])\n",
    "test_data_frame = test_data_frame.drop(columns=['State'],\\\n",
    "            axis=1).join(pd.get_dummies(test_data_frame.State))\n",
    "Xlr, Xtestlr, ylr, ytestlr = train_test_split(\\\n",
    "    test_data_frame.drop(columns=['Tomorrow'], axis=1).values, \\\n",
    "    test_data_frame[['Tomorrow']].values, random_state=5)\n",
    "clf = LogisticRegression(solver='lbfgs')\n",
    "clf.fit(Xlr, ylr)\n",
    "print(accuracy_score(clf.predict(Xtestlr), ytestlr))"
   ]
  },
  {
   "cell_type": "code",
   "execution_count": 413,
   "metadata": {},
   "outputs": [
    {
     "data": {
      "text/plain": [
       "1912"
      ]
     },
     "execution_count": 413,
     "metadata": {},
     "output_type": "execute_result"
    }
   ],
   "source": [
    "test_data_frame=pd.DataFrame(columns=['Date','State','Previous','Current'])\n",
    "for n in range(data_frame.shape[0]):\n",
    "    row = data_frame.iloc[n]\n",
    "    size = test_data_frame.shape[0]\n",
    "    test_data_frame.loc[size+1] = [3, row['Province/State'], row['3/13/20'], \\\n",
    "                          row['3/14/20']]\n",
    "test_data_frame = test_data_frame.drop(columns=['State'],\\\n",
    "            axis=1).join(pd.get_dummies(test_data_frame.State))\n",
    "cases = clf.predict(test_data_frame)\n",
    "cases.sum()"
   ]
  },
  {
   "cell_type": "code",
   "execution_count": null,
   "metadata": {},
   "outputs": [],
   "source": []
  }
 ],
 "metadata": {
  "kernelspec": {
   "display_name": "Python 3",
   "language": "python",
   "name": "python3"
  },
  "language_info": {
   "codemirror_mode": {
    "name": "ipython",
    "version": 3
   },
   "file_extension": ".py",
   "mimetype": "text/x-python",
   "name": "python",
   "nbconvert_exporter": "python",
   "pygments_lexer": "ipython3",
   "version": "3.7.4"
  }
 },
 "nbformat": 4,
 "nbformat_minor": 2
}
